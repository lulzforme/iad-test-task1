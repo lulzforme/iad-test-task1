{
  "cells": [
    {
      "cell_type": "markdown",
      "metadata": {
        "id": "64JPlHixec69"
      },
      "source": [
        "# Практика 17.10.23\n",
        "\n",
        "1. Сгенерировать, используя модуль псевдослучайных чисел `random`, или ввести с клавиатуры список целых чисел. Вывести в консоль, затем перевернуть его и снова вывести в консоль.\n",
        "\n",
        "2. Сгенерировать, используя модуль псевдослучайных чисел `random`, или ввести с клавиатуры два списка целых чисел. Вывести их в консоль. Создать новый пустой список. Добавить в него все четные (по индексу) элементы первого списка и все нечетные (по индексу) элементы второго списка. Вывести третий список в консоль.\n",
        "\n",
        "3. Сгенерировать, используя модуль псевдослучайных чисел `random`, или ввести с клавиатуры список произвольных элементов (целые числа, числа с плавающей точкой, строки). Вывести в консоль. Убрать из него все дубликаты через приведение типов. Вывести в консоль.\n",
        "\n",
        "4. Сгенерировать, используя модуль псевдослучайных чисел `random`, или ввести с клавиатуры словарь, где ключом является строка, значением — целое число или число с плавающей точкой. Вывести в консоль. Для всех уникальных значений создать кортеж, где первым элементом будет значение, вторым — список связанных с ним ключей. Собрать эти кортежи в список, вывести его в консоль.\n",
        "\n",
        "5. Сгенерировать, используя модуль псевдослучайных чисел `random`, или ввести с клавиатуры два словаря, где ключом является строка, значением — целое число или число с плавающей точкой. Вывести в консоль. Найти пересечения множеств значений словарей. Создать новый словарь, содержащий только те пары ключ-значение, значения из которых входит в пересечение. Вывести в консоль.\n",
        "\n",
        "[Ссылка на документацию функции `random`](https://docs.python.org/3/library/random.html)\n",
        "\n",
        "[Built-in Types](https://docs.python.org/3/library/stdtypes.html?highlight=tuple#tuple)"
      ]
    },
    {
      "cell_type": "markdown",
      "metadata": {
        "id": "khjUmcSBfC_P"
      },
      "source": [
        "## Задание 1"
      ]
    },
    {
      "cell_type": "markdown",
      "metadata": {
        "id": "HAVFiCLPo28O"
      },
      "source": [
        "### Эталонный пример 1"
      ]
    },
    {
      "cell_type": "code",
      "execution_count": null,
      "metadata": {
        "id": "hBqwHtZsfA9w"
      },
      "outputs": [],
      "source": []
    },
    {
      "cell_type": "markdown",
      "metadata": {
        "id": "J0j2RNGho6KG"
      },
      "source": [
        "#### Смоляков Иван Сергеевич - Задание 1"
      ]
    },
    {
      "cell_type": "code",
      "execution_count": null,
      "metadata": {
        "id": "oZVYzduGpBpC"
      },
      "outputs": [],
      "source": [
        "import random\n",
        "\n",
        "res = [random.randint(1, 99) for _ in range(10)]\n",
        "\n",
        "print(res)\n",
        "\n",
        "print(res[::-1])\n"
      ]
    },
    {
      "cell_type": "markdown",
      "metadata": {
        "id": "a1gbYjASfIqJ"
      },
      "source": [
        "## Задание 2"
      ]
    },
    {
      "cell_type": "code",
      "execution_count": null,
      "metadata": {
        "colab": {
          "base_uri": "https://localhost:8080/"
        },
        "id": "3DFZiLwJfMfC",
        "outputId": "06889dfd-303e-4b85-8447-632a376e741b"
      },
      "outputs": [
        {
          "name": "stdout",
          "output_type": "stream",
          "text": [
            "[32, 39, 35, 23, 3, 29, 29, 49, 34, 36]\n",
            "[26, 91, 68, 13, 62, 40, 26, 75, 13, 8]\n",
            "[32, 34, 36, 91, 13, 75, 13]\n"
          ]
        }
      ],
      "source": [
        "import random\n",
        "\n",
        "\n",
        "def random_int_arr(min,max):\n",
        "    return [random.randint(min, max) for _ in range(10)]\n",
        "\n",
        "\n",
        "arr_1 = random_int_arr(1,50)\n",
        "arr_2 = random_int_arr(1,100)\n",
        "\n",
        "print(arr_1)\n",
        "print(arr_2)\n",
        "\n",
        "arr_res = []\n",
        "\n",
        "for i in range(len(arr_1)):\n",
        "    if arr_1[i] % 2 == 0:\n",
        "        arr_res.append(arr_1[i])\n",
        "\n",
        "\n",
        "for i in range(len(arr_2)):\n",
        "    if arr_2[i] % 2 != 0:\n",
        "        arr_res.append(arr_2[i])\n",
        "\n",
        "print(arr_res)\n"
      ]
    },
    {
      "cell_type": "markdown",
      "metadata": {
        "id": "ZITkT8YUfM8t"
      },
      "source": [
        "## Задание 3"
      ]
    },
    {
      "cell_type": "code",
      "execution_count": null,
      "metadata": {
        "colab": {
          "base_uri": "https://localhost:8080/"
        },
        "id": "FL_u4MSlfS1w",
        "outputId": "29db9ef3-5e9a-4794-a9f8-232d8ac6efa0"
      },
      "outputs": [
        {
          "name": "stdout",
          "output_type": "stream",
          "text": [
            "[2, 5, 0, 1, 0, 2, 5, 1, 4, 5]\n",
            "{0, 1, 2, 4, 5}\n",
            "['5.4', '4.2', '3.0', '4.5', '3.1']\n",
            "{'4.2', '3.0', '4.5', '3.1', '5.4'}\n"
          ]
        }
      ],
      "source": [
        "import random\n",
        "\n",
        "\n",
        "def random_float():\n",
        "    return [random.random() * 100 for _ in range(10)]\n",
        "\n",
        "\n",
        "def random_int():\n",
        "    return [random.randint(0, 5) for _ in range(10)]\n",
        "\n",
        "\n",
        "def random_str():\n",
        "    int_part = [str(random.randint(0, 5)) for _ in range(5)]\n",
        "    real_part = [str(random.randint(0, 5)) for _ in range(5)]\n",
        "    res = []\n",
        "    for i in range(5):\n",
        "        res.append(int_part[i] + '.' + real_part[i])\n",
        "    return res\n",
        "\n",
        "\n",
        "res_s = random_str()\n",
        "res_i = random_int()\n",
        "print(res_i)\n",
        "print(set(res_i))\n",
        "print(res_s)\n",
        "print(set(res_s))\n"
      ]
    },
    {
      "cell_type": "markdown",
      "metadata": {
        "id": "sqvNf2a6fTdY"
      },
      "source": [
        "## Задание 4"
      ]
    },
    {
      "cell_type": "code",
      "execution_count": null,
      "metadata": {
        "id": "3M4BCixjfXoq"
      },
      "outputs": [],
      "source": [
        "import random\n",
        "\n",
        "\n",
        "pairs = {str(random.randint(0, 100)): random.randint(0, 5) for _ in range(10)}\n",
        "keys = {}\n",
        "\n",
        "for key, value in pairs.items():\n",
        "    if keys.get(value) is not None:\n",
        "        keys[value].append(key)\n",
        "    else:\n",
        "        keys[value] = [key]\n",
        "\n",
        "\n",
        "print(keys)\n"
      ]
    },
    {
      "cell_type": "markdown",
      "metadata": {
        "id": "3V5mJOBQfYHe"
      },
      "source": [
        "## Задание 5"
      ]
    },
    {
      "cell_type": "code",
      "execution_count": null,
      "metadata": {
        "id": "ekN9ImbzfZ2Z"
      },
      "outputs": [],
      "source": [
        "import random\n",
        "\n",
        "\n",
        "dict_1 = {i: random.randint(0, 5) for i in range(10)}\n",
        "dict_2 = {i: random.randint(0, 5) for i in range(10)}\n",
        "\n",
        "print(dict_1)\n",
        "print(dict_2)\n",
        "\n",
        "dict_res = {}\n",
        "\n",
        "\n",
        "for i in dict_1.keys():\n",
        "    if dict_1[i] == dict_2.get(i):\n",
        "        dict_res[i] = dict_1[i]\n",
        "\n",
        "print(dict_res)\n"
      ]
    }
  ],
  "metadata": {
    "colab": {
      "provenance": []
    },
    "kernelspec": {
      "display_name": "Python 3",
      "name": "python3"
    },
    "language_info": {
      "name": "python"
    }
  },
  "nbformat": 4,
  "nbformat_minor": 0
}
